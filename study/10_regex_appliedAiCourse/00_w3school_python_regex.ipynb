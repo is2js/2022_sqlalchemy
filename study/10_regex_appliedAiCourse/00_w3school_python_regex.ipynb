{
 "cells": [
  {
   "cell_type": "markdown",
   "source": [
    "## 문서\n",
    "- **참고문서1: https://docs.python.org/3/howto/regex.html**\n",
    "- **참고문서2: https://docs.python.org/3/library/re.html**\n",
    "- **연습문서: https://www.w3schools.com/python/python_regex.asp**"
   ],
   "metadata": {
    "collapsed": false,
    "pycharm": {
     "name": "#%% md\n"
    }
   }
  },
  {
   "cell_type": "code",
   "execution_count": null,
   "outputs": [],
   "source": [
    "import re\n",
    "\n",
    "# Search the string to see if it starts with \"The\" and ends with \"Spain\":\n",
    "\n",
    "txt = \"The rain in Spain\"\n",
    "\n",
    "x = re.search(\"^The.*Spain$\", txt)\n",
    "\n",
    "type(x) # search의 결과는 없으면None, 있으면 re.Match 객체다\n",
    "\n",
    "if x:\n",
    "    print(\"matched\")\n",
    "else:\n",
    "    print(\"No matched\")"
   ],
   "metadata": {
    "collapsed": false,
    "pycharm": {
     "name": "#%%\n"
    }
   }
  }
 ],
 "metadata": {
  "kernelspec": {
   "display_name": "Python 3",
   "language": "python",
   "name": "python3"
  },
  "language_info": {
   "codemirror_mode": {
    "name": "ipython",
    "version": 2
   },
   "file_extension": ".py",
   "mimetype": "text/x-python",
   "name": "python",
   "nbconvert_exporter": "python",
   "pygments_lexer": "ipython2",
   "version": "2.7.6"
  }
 },
 "nbformat": 4,
 "nbformat_minor": 0
}