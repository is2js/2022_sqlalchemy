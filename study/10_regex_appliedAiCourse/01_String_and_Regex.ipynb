{
 "cells": [
  {
   "cell_type": "markdown",
   "source": [
    "## 참고자료\n",
    "- 교재 노트북: https://colab.research.google.com/drive/1_DOirKPwybTY-SC9hb5VM1mqNV_Uk3wy#scrollTo=mLAlXSGrzy4c\n",
    "- https://docs.python.org/3/howto/regex.html\n",
    "- https://docs.python.org/3/library/re.html\n",
    "- https://www.w3schools.com/python/python_strings.asp\n",
    "- https://www.geeksforgeeks.org/python-strings/"
   ],
   "metadata": {
    "collapsed": false,
    "pycharm": {
     "name": "#%% md\n"
    }
   }
  },
  {
   "cell_type": "markdown",
   "source": [
    "## Quick recap of Regex in Python\n",
    "- Go through multiple examples to understand regex better\n",
    "- Key life-skill: learn from resources on the internet.\n",
    "- **참고문서1: https://docs.python.org/3/howto/regex.html**\n",
    "- **참고문서2: https://docs.python.org/3/library/re.html**\n",
    "- **연습문서: https://www.w3schools.com/python/python_regex.asp**\n",
    "- https://www.tutorialspoint.com/python/python_reg_expressions.htm\n"
   ],
   "metadata": {
    "collapsed": false,
    "pycharm": {
     "name": "#%% md\n"
    }
   }
  },
  {
   "cell_type": "markdown",
   "source": [
    "## Problem-1: Mask personal information in email and phone numbers"
   ],
   "metadata": {
    "collapsed": false,
    "pycharm": {
     "name": "#%% md\n"
    }
   }
  },
  {
   "cell_type": "markdown",
   "source": [
    "- Email: xxxxxxxxx@aaaa.zzzz\n",
    "    - Masked:x#####x@aaaa.zzzz [FIVE # between first and last char of the name]\n",
    "\n",
    "    <br>\n",
    "\n",
    "- Phone:  digits 0-9 or any of the characters from  { '-', '(', ')', ' '}\n",
    "    - Example: 1(234)567-890   --> ###-###-7890\"\n"
   ],
   "metadata": {
    "collapsed": false,
    "pycharm": {
     "name": "#%% md\n"
    }
   }
  },
  {
   "cell_type": "code",
   "execution_count": 19,
   "outputs": [
    {
     "data": {
      "text/html": "<img src=\"https://cdn.programiz.com/sites/tutorial2program/files/python-format-positional-argument.jpg\"/>",
      "text/plain": "<IPython.core.display.Image object>"
     },
     "execution_count": 19,
     "metadata": {},
     "output_type": "execute_result"
    }
   ],
   "source": [
    "# email-masking:   첫글자 <-> 마지막글자 사이에 5글자가 들어가는 마스크 string 만들기\n",
    "s = \"abcd@efhgh.com\"\n",
    "\n",
    "#simple string formatting : https://www.programiz.com/python-programming/methods/string/format\n",
    "\n",
    "from IPython.display import Image\n",
    "\n",
    "Image(url=\"https://cdn.programiz.com/sites/tutorial2program/files/python-format-positional-argument.jpg\")\n",
    "\n",
    "# 포맷팅에서 {1:9.3f} 에서 9는 소수점을 소수자리를 포함한 총 글자수다"
   ],
   "metadata": {
    "collapsed": false,
    "pycharm": {
     "name": "#%%\n"
    }
   }
  },
  {
   "cell_type": "code",
   "execution_count": 21,
   "outputs": [
    {
     "data": {
      "text/plain": "'a#####d@efgh.com'"
     },
     "execution_count": 21,
     "metadata": {},
     "output_type": "execute_result"
    }
   ],
   "source": [
    "# boundary case: check if email or not\n",
    "s = \"abcd@efgh.com\"\n",
    "\n",
    "\n",
    "def mask_email(s):\n",
    "    # 1) email에는 @가 들어가야한다.\n",
    "    if '@' in s:\n",
    "        name, domain = s.split(\"@\")\n",
    "        return f\"{name[0]}#####{name[-1]}@{domain}\"\n",
    "\n",
    "\n",
    "mask_email(s)"
   ],
   "metadata": {
    "collapsed": false,
    "pycharm": {
     "name": "#%%\n"
    }
   }
  },
  {
   "cell_type": "code",
   "execution_count": 22,
   "outputs": [
    {
     "data": {
      "text/plain": "'a#####a@bcedf.com'"
     },
     "execution_count": 22,
     "metadata": {},
     "output_type": "execute_result"
    }
   ],
   "source": [
    "# bourndy case\n",
    "mask_email(\"a@bcedf.com\")"
   ],
   "metadata": {
    "collapsed": false,
    "pycharm": {
     "name": "#%%\n"
    }
   }
  },
  {
   "cell_type": "code",
   "execution_count": 23,
   "outputs": [],
   "source": [
    "# bourndy case\n",
    "mask_email(\"abcd.com\")"
   ],
   "metadata": {
    "collapsed": false,
    "pycharm": {
     "name": "#%%\n"
    }
   }
  },
  {
   "cell_type": "code",
   "execution_count": 24,
   "outputs": [
    {
     "data": {
      "text/plain": "'a#####d@cedf'"
     },
     "execution_count": 24,
     "metadata": {},
     "output_type": "execute_result"
    }
   ],
   "source": [
    "# bourndy case\n",
    "mask_email(\"abcd@cedf\")"
   ],
   "metadata": {
    "collapsed": false,
    "pycharm": {
     "name": "#%%\n"
    }
   }
  },
  {
   "cell_type": "code",
   "execution_count": 34,
   "outputs": [
    {
     "name": "stdout",
     "output_type": "stream",
     "text": [
      "None\n",
      "False\n"
     ]
    }
   ],
   "source": [
    "# Check if email is valid is another function.\n",
    "# Any suggestions?\n",
    "\n",
    "\n",
    "# mask를 만들기 전에, email 유효성 검사부터 해야한다.\n",
    "\n",
    "import re\n",
    "\n",
    "\n",
    "def isValidEmail(s):\n",
    "    #refer:https://www.w3schools.com/python/python_regex.asp for regex syntax\n",
    "    #https://docs.python.org/2/library/re.html\n",
    "\n",
    "    res = re.search('^\\w+([\\.-]?\\w+)*@\\w+([\\.-]?\\w+)*(\\.\\w{2,3})+$', s, re.IGNORECASE)\n",
    "    #https://www.geeksforgeeks.org/check-if-email-address-valid-or-not-in-python/\n",
    "    ## => 이 패턴은 readable 하지 않다.\n",
    "    print(res)\n",
    "\n",
    "    ## re.search는 존재유무를 if None or re.Match객체존재로 확인하는 용도로 일단 쓰인다.\n",
    "    if (res):\n",
    "        # return True\n",
    "        return res\n",
    "    else:\n",
    "        return False\n",
    "\n",
    "\n",
    "print(isValidEmail(\"abcd@cdef\"))"
   ],
   "metadata": {
    "collapsed": false,
    "pycharm": {
     "name": "#%%\n"
    }
   }
  },
  {
   "cell_type": "code",
   "execution_count": 35,
   "outputs": [],
   "source": [
    "## 유효성 검사는 존재여부를 re.search( p, txt ) 로 하면 된다. 대소문자 무시에는 3번재 인자에 옵션을 준다.\n",
    "## 1) 괄호도 없는데 ^로 시작 $로 끝나는지 확인한다.\n",
    "## 2)  \\w + 는 무슨의미일까?\n",
    "## => 참고문서(https://docs.python.org/3/howto/regex.html)에서 \\w를 검색한다.\n",
    "#     Matches any alphanumeric character; this is equivalent to the class [a-zA-Z0-9_].\n",
    "##    영어숫자 1개를 의미 -> 사실은 unicode 글자 1개를 의미한다.\n",
    "##    \\w+ : 1개 이상의 character로 시작하면 다매칭\n",
    "## => ^w+ : 1개 이상의 글자로 시작하는 것\n",
    "\n",
    "## 3) (   ) 소괄호는? 다른 목적으로 사용되는데 나중에 확인하고, 일단은 확인하자.\n",
    "## 4) \\. : .은 single char인데 \\.는 실제dot   \\는 escape char라고 부른다.\n",
    "\n",
    "## 5) 문서(https://docs.python.org/3/library/re.html)에서 대괄호[] 검색해보자.\n",
    "##     Used to indicate a set of characters. In a set:\n",
    "#       Characters can be listed individually, e.g. [amk] will match 'a', 'm', or 'k'.\n",
    "##    => char에 대해 OR를 의미한다.\n",
    "\n",
    "## 6) ?는  .. 검색해보지 Causes the resulting RE to match 0 or 1 repetitions of the preceding RE. ab? will match either ‘a’ or ‘ab’.\n",
    "#   => 앞에char에 대해, 0없거나 1번 반복(1번쓰임)이다\n",
    "#     ab? => a or ab"
   ],
   "metadata": {
    "collapsed": false,
    "pycharm": {
     "name": "#%%\n"
    }
   }
  },
  {
   "cell_type": "code",
   "execution_count": 36,
   "outputs": [
    {
     "name": "stdout",
     "output_type": "stream",
     "text": [
      "None\n",
      "False\n"
     ]
    }
   ],
   "source": [
    "print(isValidEmail(\"abcd@cdef.c\"))"
   ],
   "metadata": {
    "collapsed": false,
    "pycharm": {
     "name": "#%%\n"
    }
   }
  },
  {
   "cell_type": "code",
   "execution_count": 37,
   "outputs": [],
   "source": [
    "## 위에것이 False이 이유는\n",
    "## 7) \\.\\w{2,3}$ 에 위배되었기 때문이다\n",
    "## => .유니코드문자열2~3개로 끝 => .com, .ca, .us 가능한데 .c는 불가능하다"
   ],
   "metadata": {
    "collapsed": false,
    "pycharm": {
     "name": "#%%\n"
    }
   }
  },
  {
   "cell_type": "code",
   "execution_count": 38,
   "outputs": [
    {
     "name": "stdout",
     "output_type": "stream",
     "text": [
      "<re.Match object; span=(0, 15), match='abcd@iisc.ac.in'>\n",
      "<re.Match object; span=(0, 15), match='abcd@iisc.ac.in'>\n"
     ]
    }
   ],
   "source": [
    "print(isValidEmail(\"abcd@iisc.ac.in\"))"
   ],
   "metadata": {
    "collapsed": false,
    "pycharm": {
     "name": "#%%\n"
    }
   }
  },
  {
   "cell_type": "code",
   "execution_count": 41,
   "outputs": [
    {
     "name": "stdout",
     "output_type": "stream",
     "text": [
      "<re.Match object; span=(0, 15), match='abcd@iisc.ac.in'>\n",
      "abcd@iisc.ac.in\n",
      "<re.Match object; span=(0, 15), match='abcd@iisc.ac.in'>\n",
      "(0, 15)\n",
      "<re.Match object; span=(0, 15), match='abcd@iisc.ac.in'>\n",
      "abcd@iisc.ac.in\n"
     ]
    }
   ],
   "source": [
    "## re.Match object는 무엇일까? 구글에는 function이 안나오게 class를 붙여서 검색하면 된다.\n",
    "## -> re.Match class python\n",
    "# print(isValidEmail(\"abcd@iisc.ac.in\").string)\n",
    "# print(isValidEmail(\"abcd@iisc.ac.in\").span())\n",
    "# print(isValidEmail(\"abcd@iisc.ac.in\").group())"
   ],
   "metadata": {
    "collapsed": false,
    "pycharm": {
     "name": "#%%\n"
    }
   }
  },
  {
   "cell_type": "code",
   "execution_count": 42,
   "outputs": [],
   "source": [
    "## 정규표현식을 더 보기 쉽게 만들기\n",
    "## => string으로 만들어 re.search(string_p, txt, re.IGNORECASE)에 넣지말고\n",
    "#     re.compile(r\"\")로 패턴객체를 만든 뒤, p객체.match(txt)를 사용한다.\n",
    "#     re.IGNORECASE외에 | re.VERBOSE 옵션을 주면, 주석을 달 수 도 있따?!\n",
    "#     옵션을 안주면, 주석단 string_pattern이 제대로 인식안된다."
   ],
   "metadata": {
    "collapsed": false,
    "pycharm": {
     "name": "#%%\n"
    }
   }
  },
  {
   "cell_type": "code",
   "execution_count": 47,
   "outputs": [
    {
     "name": "stdout",
     "output_type": "stream",
     "text": [
      "abcd@iisc.ac.in\n",
      "<re.Match object; span=(0, 15), match='abcd@iisc.ac.in'>\n"
     ]
    }
   ],
   "source": [
    "regex = '^\\w+([\\.-]?\\w+)*@\\w+([\\.-]?\\w+)*(\\.\\w{2,3})+$'  # highly non-readbale code\n",
    "\n",
    "#https://docs.python.org/2/library/re.html\n",
    "regex_verbose = re.compile(r\"\"\"                  # VERY readable and easy to understand. Software maintanability.\n",
    "            ^\\w+([\\.-]?\\w+)*              # start, \\w+,\n",
    "            @                             # single @ sign\n",
    "            \\w+([\\.-]?\\w+)*               # Domain name\n",
    "            (\\.\\w{2,3})+$                 # .com, .ac.in,\n",
    "             \"\"\", re.VERBOSE | re.IGNORECASE)\n",
    "\n",
    "res = regex_verbose.match(\"abcd@iisc.ac.in\");\n",
    "\n",
    "print(res.string)\n",
    "print(res)"
   ],
   "metadata": {
    "collapsed": false,
    "pycharm": {
     "name": "#%%\n"
    }
   }
  },
  {
   "cell_type": "code",
   "execution_count": 49,
   "outputs": [
    {
     "name": "stdout",
     "output_type": "stream",
     "text": [
      "1234567890\n",
      "###-###-7890\n"
     ]
    }
   ],
   "source": [
    "# PHONE NUMBER MASKING\n",
    "#Example: 1(234)567-890 --> ###-###-7890\"\n",
    "\n",
    "# (), -, \" \"(space) 3개로 구분한다?\n",
    "\n",
    "ph = \"1(234)567-890\"\n",
    "\n",
    "# 1) 어차피 마스킹hash대로 숫자를 재배열해야하므로 => 숫자가 아닌 것은 다 짜른다\n",
    "#    숫자아닌 것(\\D) 삭제 -> 삭제안할것만 필터링? 정규표현식에서는 sub로 대상 -> \"\" 직접 삭제\n",
    "\n",
    "digits = re.sub(\"\\D\", \"\", ph)  # \\D=>non-decimal, re.substitute, https://docs.python.org/3/library/re.html\n",
    "\n",
    "print(digits)\n",
    "# 2) 뒤에서부터 4개만 필요하므로 [-4:]으로 가져오면 된다.\n",
    "masked = \"###-###-{}\".format(digits[-4:])\n",
    "print(masked)\n",
    "\n"
   ],
   "metadata": {
    "collapsed": false,
    "pycharm": {
     "name": "#%%\n"
    }
   }
  },
  {
   "cell_type": "code",
   "execution_count": 50,
   "outputs": [
    {
     "name": "stdout",
     "output_type": "stream",
     "text": [
      "###-###-7890\n"
     ]
    }
   ],
   "source": [
    "def maskPhoneNum(ph):\n",
    "    digits = re.sub(\"\\D\", \"\", ph)  # \\D=>non-decimal, re.substitute, https://docs.python.org/3/library/re.html\n",
    "    # 3) 전화번호의 유효성검사는 숫자아닌 것 삭제한 상태에서 갯수로 한다\n",
    "    if len(digits) != 10:  # BOUNDARY CASE\n",
    "        return None;\n",
    "    else:\n",
    "        masked = \"###-###-{}\".format(digits[-4:])\n",
    "        return masked\n",
    "\n",
    "\n",
    "print(maskPhoneNum(\"1(234)567-890\"))\n"
   ],
   "metadata": {
    "collapsed": false,
    "pycharm": {
     "name": "#%%\n"
    }
   }
  },
  {
   "cell_type": "markdown",
   "source": [
    "#### Exercise:  12 digit phone numbers with 2 digits of ISD  code strtaing with +\n",
    "- e.g: +86-(99)12345678    ---->  (+86)-###-###-5678\n",
    "************\n",
    "************\n",
    "************************\n",
    "************"
   ],
   "metadata": {
    "collapsed": false,
    "pycharm": {
     "name": "#%% md\n"
    }
   }
  },
  {
   "cell_type": "code",
   "execution_count": 59,
   "outputs": [
    {
     "name": "stdout",
     "output_type": "stream",
     "text": [
      "(+86)-###-###-5678\n"
     ]
    }
   ],
   "source": [
    "ph = '+86-(99)12345678'\n",
    "\n",
    "digits = re.sub('\\D', '', ph)\n",
    "\n",
    "if len(digits) == 12:\n",
    "    masked = f\"(+{digits[:2]})-###-###-{digits[-4:]}\"\n",
    "    print(masked)\n",
    "else:\n",
    "    print(None)\n"
   ],
   "metadata": {
    "collapsed": false,
    "pycharm": {
     "name": "#%%\n"
    }
   }
  },
  {
   "cell_type": "code",
   "execution_count": null,
   "outputs": [],
   "source": [],
   "metadata": {
    "collapsed": false,
    "pycharm": {
     "name": "#%%\n"
    }
   }
  },
  {
   "cell_type": "markdown",
   "source": [],
   "metadata": {
    "collapsed": false,
    "pycharm": {
     "name": "#%% md\n"
    }
   }
  },
  {
   "cell_type": "code",
   "execution_count": null,
   "outputs": [],
   "source": [],
   "metadata": {
    "collapsed": false,
    "pycharm": {
     "name": "#%%\n"
    }
   }
  },
  {
   "cell_type": "code",
   "execution_count": null,
   "outputs": [],
   "source": [],
   "metadata": {
    "collapsed": false,
    "pycharm": {
     "name": "#%%\n"
    }
   }
  },
  {
   "cell_type": "markdown",
   "source": [
    "## Problem 2: Extract data from a PDF invoice"
   ],
   "metadata": {
    "collapsed": false,
    "pycharm": {
     "name": "#%% md\n"
    }
   }
  },
  {
   "cell_type": "markdown",
   "source": [
    "- Given a PDF [https://slicedinvoices.com/pdf/wordpress-pdf-invoice-plugin-sample.pdf], extract predefined key fields from this PDF\n",
    "- Assume the format is fixed.\n"
   ],
   "metadata": {
    "collapsed": false,
    "pycharm": {
     "name": "#%% md\n"
    }
   }
  },
  {
   "cell_type": "code",
   "execution_count": null,
   "outputs": [],
   "source": [],
   "metadata": {
    "collapsed": false,
    "pycharm": {
     "name": "#%%\n"
    }
   }
  },
  {
   "cell_type": "markdown",
   "source": [
    "#### NOTE: Download and save the above PDF as\n",
    "\n",
    "---\n",
    "\n",
    "invoice.pdf in the same folder as your iPython\n",
    "\n",
    "---\n",
    "\n",
    "notebook for the following code to work\n"
   ],
   "metadata": {
    "collapsed": false,
    "pycharm": {
     "name": "#%% md\n"
    }
   }
  },
  {
   "cell_type": "markdown",
   "source": [
    "#### pdf읽기"
   ],
   "metadata": {
    "collapsed": false,
    "pycharm": {
     "name": "#%% md\n"
    }
   }
  },
  {
   "cell_type": "code",
   "execution_count": null,
   "outputs": [],
   "source": [],
   "metadata": {
    "collapsed": false,
    "pycharm": {
     "name": "#%%\n"
    }
   }
  },
  {
   "cell_type": "code",
   "execution_count": 61,
   "outputs": [],
   "source": [
    "# https://realpython.com/pdf-python/#history-of-pypdf-pypdf2-and-pypdf4\n",
    "\n",
    "#!pip3 install pyPDF4"
   ],
   "metadata": {
    "collapsed": false,
    "pycharm": {
     "name": "#%%\n"
    }
   }
  },
  {
   "cell_type": "code",
   "execution_count": 93,
   "outputs": [
    {
     "name": "stdout",
     "output_type": "stream",
     "text": [
      "Invoice\n",
      "Payment is due within 30 days from date of invoice. Late payment is subject to fees of 5% per month.\n",
      "Thanks for choosing \n",
      "DEMO - Sliced Invoices\n",
      " | \n",
      "admin@slicedinvoices.com\n",
      "Page 1/1\n",
      "From:\n",
      "DEMO - Sliced Invoices\n",
      "Suite 5A-1204\n",
      "123 Somewhere Street\n",
      "Your City AZ 12345\n",
      "admin@slicedinvoices.com\n",
      "Invoice Number\n",
      "INV-3337\n",
      "Order Number\n",
      "12345\n",
      "Invoice Date\n",
      "January 25, 2016\n",
      "Due Date\n",
      "January 31, 2016\n",
      "Total Due\n",
      "$93.50\n",
      "To:\n",
      "Test Business\n",
      "123 Somewhere St\n",
      "Melbourne, VIC 3000\n",
      "test@test.com\n",
      "Hrs/Qty\n",
      "Service\n",
      "Rate/Price\n",
      "Adjust\n",
      "Sub Total\n",
      "1.00\n",
      "Web Design\n",
      "This is a sample description...\n",
      "$85.00\n",
      "0.00%\n",
      "$85.00\n",
      "Sub Total\n",
      "$85.00\n",
      "Tax\n",
      "$8.50\n",
      "Total\n",
      "$93.50\n",
      "ANZ Bank\n",
      "ACC # 1234 1234\n",
      "BSB # 4321 432\n",
      "Paid\n",
      "\n"
     ]
    }
   ],
   "source": [
    "import PyPDF4\n",
    "from pathlib import Path\n",
    "\n",
    "## .py의 현재경로\n",
    "# file_path = Path(__file__).parent\n",
    "\n",
    "## .ipynb의 현재경로 by .resolve() or .cwd()\n",
    "# file_dir = Path().resolve().parent\n",
    "file_dir = Path().cwd().parent\n",
    "\n",
    "# print(file_dir.absolute())\n",
    "# C:\\Users\\is2js\\pythonProject\\2022_sqlalchemy\n",
    "\n",
    "## 경로에 추가경로 or 파일경로 붙이기는 .joinpath('')\n",
    "FILE_PATH = file_dir.joinpath('wordpress-pdf-invoice-plugin-sample.pdf')\n",
    "\n",
    "with open(FILE_PATH, mode='rb') as f:\n",
    "    reader = PyPDF4.PdfFileReader(f)\n",
    "    page = reader.getPage(0)\n",
    "    print(page.extractText())"
   ],
   "metadata": {
    "collapsed": false,
    "pycharm": {
     "name": "#%%\n"
    }
   }
  },
  {
   "cell_type": "code",
   "execution_count": 95,
   "outputs": [],
   "source": [
    "# 추출을 위해 print말고 txt변수에\n",
    "\n",
    "import PyPDF4\n",
    "\n",
    "FILE_PATH = Path().resolve().parent.joinpath('wordpress-pdf-invoice-plugin-sample.pdf')\n",
    "\n",
    "with open(FILE_PATH, mode='rb') as f:\n",
    "    reader = PyPDF4.PdfFileReader(f)\n",
    "    page = reader.getPage(0)\n",
    "    txt = page.extractText();"
   ],
   "metadata": {
    "collapsed": false,
    "pycharm": {
     "name": "#%%\n"
    }
   }
  },
  {
   "cell_type": "code",
   "execution_count": 97,
   "outputs": [],
   "source": [
    "# txt"
   ],
   "metadata": {
    "collapsed": false,
    "pycharm": {
     "name": "#%%\n"
    }
   }
  },
  {
   "cell_type": "markdown",
   "source": [
    "#### text 전체에서 $xx.xx돈 모두 list의 원소로 추출 by re.findall"
   ],
   "metadata": {
    "collapsed": false,
    "pycharm": {
     "name": "#%% md\n"
    }
   }
  },
  {
   "cell_type": "code",
   "execution_count": 104,
   "outputs": [],
   "source": [
    "## 1) 라인별 달러로 시작X, 전체가 1line으로 출력 -> ^$가 아님\n",
    "## 2) 전체 텍스트에서 해당하는 것 다 찾음 -> re.search가 아님(존재유무)\n",
    "##   => \\n로 연결된 multiline에서 찾기 => re.findall()로 전체를 다 찾는다\n",
    "## 3) 돈은 $__.__  형태이다. 숫자가 소수점 양옆으로 0개이상 반복으로 찾아본다."
   ],
   "metadata": {
    "collapsed": false,
    "pycharm": {
     "name": "#%%\n"
    }
   }
  },
  {
   "cell_type": "code",
   "execution_count": 98,
   "outputs": [
    {
     "name": "stdout",
     "output_type": "stream",
     "text": [
      "[]\n"
     ]
    }
   ],
   "source": [
    "# extract amounts\n",
    "m = re.findall(\"$[0-9]*\\.[0-9]*\", txt)\n",
    "print(m)\n",
    "\n",
    "\n",
    "## 못 찾는다? 무엇이 잘못됬을까?\n",
    "## => 달러는, end of string으로 => escape\\가 붙어야한다.\n",
    "##     start ^ | end $"
   ],
   "metadata": {
    "collapsed": false,
    "pycharm": {
     "name": "#%%\n"
    }
   }
  },
  {
   "cell_type": "code",
   "execution_count": 99,
   "outputs": [
    {
     "name": "stdout",
     "output_type": "stream",
     "text": [
      "['$93.50', '$85.00', '$85.00', '$85.00', '$8.50', '$93.50']\n"
     ]
    }
   ],
   "source": [
    "# extract amounts\n",
    "m = re.findall(\"\\$[0-9]*\\.[0-9]*\", txt)\n",
    "print(m)"
   ],
   "metadata": {
    "collapsed": false,
    "pycharm": {
     "name": "#%%\n"
    }
   }
  },
  {
   "cell_type": "markdown",
   "source": [
    "#### total due $ 93.50 찾기 by multi line \\n 포함하여 찾기"
   ],
   "metadata": {
    "collapsed": false,
    "pycharm": {
     "name": "#%% md\n"
    }
   }
  },
  {
   "cell_type": "code",
   "execution_count": 105,
   "outputs": [
    {
     "name": "stdout",
     "output_type": "stream",
     "text": [
      "Invoice\n",
      "Payment is due within 30 days from date of invoice. Late payment is subject to fees of 5% per month.\n",
      "Thanks for choosing \n",
      "DEMO - Sliced Invoices\n",
      " | \n",
      "admin@slicedinvoices.com\n",
      "Page 1/1\n",
      "From:\n",
      "DEMO - Sliced Invoices\n",
      "Suite 5A-1204\n",
      "123 Somewhere Street\n",
      "Your City AZ 12345\n",
      "admin@slicedinvoices.com\n",
      "Invoice Number\n",
      "INV-3337\n",
      "Order Number\n",
      "12345\n",
      "Invoice Date\n",
      "January 25, 2016\n",
      "Due Date\n",
      "January 31, 2016\n",
      "Total Due\n",
      "$93.50\n",
      "To:\n",
      "Test Business\n",
      "123 Somewhere St\n",
      "Melbourne, VIC 3000\n",
      "test@test.com\n",
      "Hrs/Qty\n",
      "Service\n",
      "Rate/Price\n",
      "Adjust\n",
      "Sub Total\n",
      "1.00\n",
      "Web Design\n",
      "This is a sample description...\n",
      "$85.00\n",
      "0.00%\n",
      "$85.00\n",
      "Sub Total\n",
      "$85.00\n",
      "Tax\n",
      "$8.50\n",
      "Total\n",
      "$93.50\n",
      "ANZ Bank\n",
      "ACC # 1234 1234\n",
      "BSB # 4321 432\n",
      "Paid\n",
      "\n"
     ]
    }
   ],
   "source": [
    "# pdf가 아닌, txt 파일을 봐야한다.\n",
    "print(txt)  #\n",
    "\n",
    "# Total Due\n",
    "# $93.50\n",
    "# 서로 다른 \\n 라인에 배치됨.\n",
    "# => 찾을 땐 2개사이에 \\n를 붙여서 찾으면 된다."
   ],
   "metadata": {
    "collapsed": false,
    "pycharm": {
     "name": "#%%\n"
    }
   }
  },
  {
   "cell_type": "code",
   "execution_count": 106,
   "outputs": [
    {
     "name": "stdout",
     "output_type": "stream",
     "text": [
      "[]\n"
     ]
    }
   ],
   "source": [
    "# Extract Total Due:\n",
    "m = re.findall(\"Total Due\\$[0-9]*\\.[0-9]*\", txt)\n",
    "print(m)\n",
    "\n",
    "# Any suggestions?\n",
    "## print상 다음줄에 있으면 \\n를 넣어서 같이 찾으면 된다."
   ],
   "metadata": {
    "collapsed": false,
    "pycharm": {
     "name": "#%%\n"
    }
   }
  },
  {
   "cell_type": "code",
   "execution_count": 107,
   "outputs": [
    {
     "name": "stdout",
     "output_type": "stream",
     "text": [
      "['Total Due\\n$93.50']\n"
     ]
    }
   ],
   "source": [
    "# Extract Total Due:\n",
    "m = re.findall(\"Total Due\\n\\$[0-9]*\\.[0-9]*\", txt)\n",
    "print(m)"
   ],
   "metadata": {
    "collapsed": false,
    "pycharm": {
     "name": "#%%\n"
    }
   }
  },
  {
   "cell_type": "code",
   "execution_count": null,
   "outputs": [],
   "source": [
    "## \\n로 묶어서 나온 findall의 결과 m에 대해,\n",
    "## => list에서 [0] 슬라이싱해서 원소를 꺼내서 다시 한번,\n",
    "## 달러만, 나눠서 findall을 한다."
   ],
   "metadata": {
    "collapsed": false,
    "pycharm": {
     "name": "#%%\n"
    }
   }
  },
  {
   "cell_type": "code",
   "execution_count": 108,
   "outputs": [
    {
     "name": "stdout",
     "output_type": "stream",
     "text": [
      "['$93.50']\n"
     ]
    }
   ],
   "source": [
    "print(re.findall(\"\\$[0-9]*\\.[0-9]*\", m[0]))"
   ],
   "metadata": {
    "collapsed": false,
    "pycharm": {
     "name": "#%%\n"
    }
   }
  },
  {
   "cell_type": "code",
   "execution_count": 110,
   "outputs": [
    {
     "name": "stdout",
     "output_type": "stream",
     "text": [
      "\n",
      "\n",
      " Invoice date:January 25, 2016\n"
     ]
    }
   ],
   "source": [
    "## line number로 찾을 수 있따.\n",
    "# \\n으로 split해서 나온 list의 인덱싱하면 정해진 위치에서 찾을 수 있다.\n",
    "## => re.split(\"\\n\")을 split의 re모듈에서 꺼내쓸 수 있다.\n",
    "\n",
    "# Extract dates in this doc gieven a fixed format using line number\n",
    "res = re.split(\"\\n\", txt);\n",
    "# print(res)\n",
    "\n",
    "print(\"\\n\\n Invoice date:\" + res[18])"
   ],
   "metadata": {
    "collapsed": false,
    "pycharm": {
     "name": "#%%\n"
    }
   }
  },
  {
   "cell_type": "code",
   "execution_count": 111,
   "outputs": [
    {
     "name": "stdout",
     "output_type": "stream",
     "text": [
      "\n",
      "\n",
      " Invoice date:January 25, 2016\n"
     ]
    }
   ],
   "source": [
    "# string.split을 써도 마찬가지임.\n",
    "res = txt.split(\"\\n\")\n",
    "# print(res)\n",
    "\n",
    "print(\"\\n\\n Invoice date:\" + res[18])"
   ],
   "metadata": {
    "collapsed": false,
    "pycharm": {
     "name": "#%%\n"
    }
   }
  },
  {
   "cell_type": "markdown",
   "source": [
    "#### NOTE: Web-scarping\n",
    "- We can use \"re\" for extracting data from web-scarping.\n",
    "- But, it is better to sue ebautiful-soup like libraries as they use the structure of HTML\n",
    "- https://www.crummy.com/software/BeautifulSoup/bs4/doc/\n",
    "- We have done an earlier live session on web-scraping: https://youtu.be/EYzTeb_VXoI"
   ],
   "metadata": {
    "collapsed": false,
    "pycharm": {
     "name": "#%% md\n"
    }
   }
  },
  {
   "cell_type": "code",
   "execution_count": 114,
   "outputs": [],
   "source": [
    "## aws 웹에서 상품의 제목과 가격을 추출해보자."
   ],
   "metadata": {
    "collapsed": false,
    "pycharm": {
     "name": "#%%\n"
    }
   }
  },
  {
   "cell_type": "markdown",
   "source": [
    "### Ques: How do we handle cases where we want to extract data from multiple invoice formats?\n",
    "\n",
    "\n",
    "#### Assignment: Extract email-addresses from the PDF\n"
   ],
   "metadata": {
    "collapsed": false,
    "pycharm": {
     "name": "#%% md\n"
    }
   }
  },
  {
   "cell_type": "markdown",
   "source": [
    "## Problem 3: Check if a number is a valid integer or float\n",
    "- TRUE: 12, 12.5, 1e10, 1e+6, 1e-10, -2.3, -2.4e-4\n",
    "- FALSE: abc, -2.4e4.5, 1b2.4\n",
    "- TRICKY: Handle all the cases carefully.\n",
    "- Easy problem to code. But, hard not to miss cases.\n",
    "- Popular interview question to understand handling boundary cases.\n"
   ],
   "metadata": {
    "collapsed": false,
    "pycharm": {
     "name": "#%% md\n"
    }
   }
  },
  {
   "cell_type": "code",
   "execution_count": null,
   "outputs": [],
   "source": [],
   "metadata": {
    "collapsed": false,
    "pycharm": {
     "name": "#%%\n"
    }
   }
  },
  {
   "cell_type": "code",
   "execution_count": 116,
   "outputs": [],
   "source": [
    "# Source: https://www.geeksforgeeks.org/check-given-string-valid-number-integer-floating-point/\n",
    "# Sometimes, reading other's code is a good way to learn.\n",
    "# Explanatory comments are very important in your code.\n",
    "# We added more comments and clearly listed cases handled for better interpretability.\n",
    "\n",
    "\n",
    "# This code elimiates each of the FALSE cases and finally limits to only TRUE cases.\n",
    "# is a valid number\n",
    "def valid_number(str):\n",
    "    i = 0\n",
    "    j = len(str) - 1\n",
    "    ## 1) cursor를 시작index뿐만 아니라 last index도 미리 변수로 정해놓고\n",
    "    ## two pointer가 동시에 움직인다.\n",
    "\n",
    "    ## 2) 1글자씩 보기위해, 0번재부터 인덱스를 +=1 씩하면서, 커질때의 유효index범위( < n) 이면서\n",
    "    ## and [제거조건1: 공백] => [아무것도 안하고 인덱스만 올려 skip]한다!!\n",
    "    # Handling whitespaces: \"   123   \"\n",
    "    while i < len(str) and str[i] == ' ':  # remove  whitespaces int he beginning\n",
    "        i += 1\n",
    "\n",
    "    ## 3) 마지막인덱스를 -=1씩하면서, 작아질때의 유효index범위(>=0)내에서\n",
    "    ## and [제거조건2: 뒤에서부터 공백] => 아무것도 안하고 index를 내려 skip한다\n",
    "    while j >= 0 and str[j] == ' ':  # remove whitespaces at the end\n",
    "        j -= 1\n",
    "\n",
    "    ## 4) 한 배열에 two pointer가 움직인다면, 같아질 순 있지만, 넘어서면 탈락이다.\n",
    "    ## => 남은 것이 [ ] 공백만 남을 경우만 => 둘중에 하나가 넘어서게 된다.\n",
    "    ## => 남은 것 1개가 글자여야한다. 모두 공백일 경우를 처리하는 것이다.\n",
    "    ## => 양쪽에서 공백을 제거할 때, i가 j를 넘어서게 될 것이다.\n",
    "    ## => 둘다 움직일 때, 넘어서는 경우를 처리해주자.\n",
    "    if i > j:  # if only whitespaces in the given string\n",
    "        return False\n",
    "\n",
    "    #str[i...j] is a whitespace removed (from beginning and end) string\n",
    "\n",
    "    ## 5) 글자가 1개만 남은 경우, i==j상태다.\n",
    "    ##   and 이 때, 문자열숫자의 비교로, 0과 9사이에 있어야한다. 아니면 탈락이다.\n",
    "    ## => 즉, 1글자라면, 숫자여야한다.\n",
    "    # if string is of length 1 and the only\n",
    "    # character is not a digit\n",
    "    if (i == j and not (str[i] >= '0' and str[i] <= '9')):\n",
    "        return False\n",
    "\n",
    "    ## 6) 현재의 i는, 앞뒤공백을 제거된 상태에서, 1글자일 수도 있지만, 여러글자 중 [str[i] == 첫글자]인 상태이다.\n",
    "    ## => 첫글자는, 1글자라면, 무조건 숫자여야했는데,\n",
    "    ##             여러글자 중 첫글자라면, + or - or . or 숫자는 허용이다.\n",
    "    ##  => 불허용은 전체에 not을 붙여서, not + and not - and not . and not (0<=, <=9)면 탈락시킨다.\n",
    "    ## => my retun False로 탈락인 조건인 and로 연결되었다면, 반대로 not을 붙여서 허용 or 허용 으로 생각해보자.\n",
    "    ## => 허용은 or 로 연결되는 반면 [not 허용]은 and로 연결시키자.\n",
    "    ## => 개별 탈락조건은 => or로 연결하면 되는데,\n",
    "    ##    not(허용)일 경우 =>  and로 연결해야한다.\n",
    "\n",
    "    # If the 1st char is not '+', '-', '.' or digit\n",
    "    if (str[i] != '.' and str[i] != '+' and\n",
    "            str[i] != '-' and not (str[i] >= '0' and\n",
    "                                   str[i] <= '9')):\n",
    "        return False\n",
    "\n",
    "    ## 7) 첫글자(+or-or.or숫자)로  보장받았다면,\n",
    "    #  7-1)중간에 (.이나 e)가 [2번이상 등장(시 탈락)]여부르 flag로 확인한다. 발견시 True로 바꿀 False초기화 시작한다\n",
    "    #  7-2) 공백이 아닌 글자들 i부터 j까지 글자를 탐색한다.\n",
    "\n",
    "    # To check if a '.' or 'e' is found in given string.\n",
    "    # We use this flag to make sure that\n",
    "    # either of them appear only once.\n",
    "    flagDotOrE = False\n",
    "\n",
    "    # for i in range(j + 1):\n",
    "    for k in range(i, j + 1):\n",
    "\n",
    "        ## 8) 각 글자들이, 허용범위들이 아니라면 not허용1 and not 허용2..: 탈락시킨다.\n",
    "        ## => 첫글자 검사랑 동일하다?\n",
    "\n",
    "        # If any of the char does not belong to\n",
    "        # {digit, +, -,., e}\n",
    "        if (str[k] != 'e' and str[k] != '.' and\n",
    "                str[k] != '+' and str[k] != '-' and not\n",
    "                (str[k] >= '0' and str[k] <= '9')):\n",
    "            return False  # \"a123\" good to write cases eliminated\n",
    "\n",
    "        ## 9) 만약 dot을 발견했다면,\n",
    "        ## => flag를 통해, 그보다 이전에 . or e가 등장했는지 확인한다.\n",
    "        if str[k] == '.':\n",
    "\n",
    "            ## 9-1) 이미 한번 등장해서 flag에 마킹된 상태에서 또 발견이라면, 탈락이다.\n",
    "            # check if the char e has already\n",
    "            # occured before '.' If yes, return 0\n",
    "            if flagDotOrE:\n",
    "                return False  #\"1e2.3\", \"1.2.3\"\n",
    "\n",
    "            ## 9-2) 중간에 나타나얄 . or e 가 맨끝인덱스면, 탈락이다.\n",
    "            if k + 1 > len(str):\n",
    "                return False  # \"123.\"\n",
    "            ## 9-3) . or e 다음에 숫자가 안와도 탈락이다.\n",
    "            if (not (str[k + 1] >= '0' and str[k + 1] <= '9')):\n",
    "                return False  # \"123.a\", \"123.e\"\n",
    "\n",
    "            ## 9-4) 방문검사? 중복flag? 등은 항상 체킹후 마킹한다.\n",
    "            flagDotOrE = True\n",
    "\n",
    "        elif str[k] == 'e':\n",
    "\n",
    "            ## 9-5) e는 왜 체킹전에 마킹할까? e는 마킹전 방문체킹안하며, .과 다르게 2번나와도 되는걸까??\n",
    "            ## => \"-1.2e-15\"는 가능하다. e의 경우 앞에 .이 나왔어도 또 나올 수 있다.\n",
    "            ## => 반대로 \"1e2.3\"에서  .의 경우 앞에 e가나왔으면 .이 나오면 안된다고 한다.\n",
    "            # set flagDotOrE = 1 when e is encountered.\n",
    "            flagDotOrE = True\n",
    "\n",
    "            ## 9-6) 첫글자는 숫자임을 보장받았으므로, e는 2번재이상검부터 나타나 k-1예외처리는 안해줘도 된다.\n",
    "            ##      e는 바로앞에, 숫자가 잇어야한다. \"1e+10\" \"123e\"\n",
    "            # if there is no digit before e\n",
    "            if (not (str[k - 1] >= '0' and str[k - 1] <= '9')):\n",
    "                return False  # \"e123\"\n",
    "\n",
    "            ## 9-7) e가 마지막에 있으면 안된다.\n",
    "            # if e is the last character\n",
    "            if k + 1 > len(str):\n",
    "                return False  # \"123e\"\n",
    "\n",
    "            ## 9-8) e다음에는 허용OR그룹이 있으며 그것만  와야한다. => not 허용2 and not 허용2 .. :return False\n",
    "            ## => e다음에는 + - 숫자가 와야한다.   그외  dot이나 문자가 오면안된다.\n",
    "            ## ex> 2e+  1e- 2e10\n",
    "            # if e is not followed by\n",
    "            # '+', '-' or a digit\n",
    "            if (str[k + 1] != '+' and str[k + 1] != '-' and\n",
    "                    (not (str[k + 1] >= '0' and str[k + 1] <= '9'))):\n",
    "                return False  # \"1e.\" \"1ea\"\n",
    "\n",
    "    ## 10) 탈락조건에 하나도 안걸리고 다돌면, True다.\n",
    "    # If the string skips all the\n",
    "    # above cases, it must be a numeric string\n",
    "    return True\n"
   ],
   "metadata": {
    "collapsed": false,
    "pycharm": {
     "name": "#%%\n"
    }
   }
  },
  {
   "cell_type": "code",
   "execution_count": 117,
   "outputs": [
    {
     "name": "stdout",
     "output_type": "stream",
     "text": [
      "True\n"
     ]
    }
   ],
   "source": [
    "print(valid_number(\"1e5\"))"
   ],
   "metadata": {
    "collapsed": false,
    "pycharm": {
     "name": "#%%\n"
    }
   }
  },
  {
   "cell_type": "code",
   "execution_count": 118,
   "outputs": [
    {
     "name": "stdout",
     "output_type": "stream",
     "text": [
      "False\n"
     ]
    }
   ],
   "source": [
    "print(valid_number(\"1e1.5\"))"
   ],
   "metadata": {
    "collapsed": false,
    "pycharm": {
     "name": "#%%\n"
    }
   }
  },
  {
   "cell_type": "code",
   "execution_count": 119,
   "outputs": [
    {
     "name": "stdout",
     "output_type": "stream",
     "text": [
      "True\n"
     ]
    }
   ],
   "source": [
    "print(valid_number(\"1e+15\"))"
   ],
   "metadata": {
    "collapsed": false,
    "pycharm": {
     "name": "#%%\n"
    }
   }
  },
  {
   "cell_type": "code",
   "execution_count": 120,
   "outputs": [
    {
     "name": "stdout",
     "output_type": "stream",
     "text": [
      "True\n"
     ]
    }
   ],
   "source": [
    "print(valid_number(\"-1.2e-15\"))"
   ],
   "metadata": {
    "collapsed": false,
    "pycharm": {
     "name": "#%%\n"
    }
   }
  },
  {
   "cell_type": "markdown",
   "source": [
    "## Problem 4:  Regex matching problem\n",
    "- \"?\" matches a single character\n",
    "    - 원래는 \".\"이 a single character??\n",
    "- \"*\" matches zero or more charcters\n",
    "- Given a pattern(p) and a string(s), does p match s?\n",
    "- examples:\n",
    "    - TRUE: (\"\\*\", \"ab\"), (\"?a\" ,\"ba\"), (\"?a\" ,\"aa\"), (\"a\\*\" ,\"a\")\n",
    "    - FALSE: (\"\\*a\", \"ab\"), (\"?a\" ,\"baa\"), (\"?a\" ,\"a\"), (\"a\\*\" ,\"ba\")\n",
    "        - 고정된 것부터 매칭시키고 패턴을을 매칭시키자\n",
    "\n",
    "- Very popular interview question at product-based companies for SDEs.\n",
    "- Small variations of this are often used in interviews\n",
    "\n",
    "- Any suggestions?\n"
   ],
   "metadata": {
    "collapsed": false,
    "pycharm": {
     "name": "#%% md\n"
    }
   }
  },
  {
   "cell_type": "code",
   "execution_count": 121,
   "outputs": [],
   "source": [
    "# Handle all cases of recursion thoroughly.\n",
    "\n",
    "def isMatch(p, s):\n",
    "    ## 1) 자신의 처리에 디버깅을 위해서 찍어준다.\n",
    "    print(p, s)  # print statemnt for debugging\n",
    "\n",
    "    #### 재귀의 종착역 case(base case)는 3개다. s뿐만 아니라, 해결된 p도 줄어들어서, 각각을 다룬다.\n",
    "    ## 2) pattern과 string이 같을 수 있으며, 종착역이다.\n",
    "    # boundary cases of recursion\n",
    "    if p == s:\n",
    "        return True\n",
    "\n",
    "    ## 3) pattern이 온리star라서 아무 s나 \"\" ~ \"모든가능문자열\"이 다 True다.\n",
    "    if p == \"*\":\n",
    "        return True\n",
    "\n",
    "    ## 4) 둘 중에 emtpy면, 매칭안되는 것으로 종착역 False\n",
    "    ## => 부분문제로 돌렸는데, 같지도 않고 *패턴도 아니라, 아무것도 안남았다면.. 안풀린 것..?\n",
    "    if p == \"\" or s == \"\":\n",
    "        return False\n",
    "\n",
    "    #### 부분문제가 발생하는 case도 여러가지다. -> 일단 p[0]에  char or ? or * 가 올 수 있다.\n",
    "    # P: _ _ _ _ _\n",
    "    # S: _ _ _ _ _\n",
    "    ## 1) 첫글자가 고정된것과 동일하면, 나머지p와 s를 풀면 된다.\n",
    "    ## 2) 첫글자의 p가 ?면, s의 첫글자 아무거나 매칭되서, 나머지p, s를 풀면 된다.\n",
    "    # recursion case-1\n",
    "    if p[0] == s[0] or p[0] == '?':\n",
    "        return isMatch(p[1:], s[1:])\n",
    "\n",
    "    ## 3) p의 첫글자가 *면,  0 or more 이므로,\n",
    "    # P: * _ _ _ _\n",
    "    # S: _ _ _ _ _\n",
    "    #     (1) 0 -> s를 하나도 매칭안할 수 있다 => p[1:]와 s 매칭\n",
    "    #     (2) 1이상 매칭 -> s[0]만 매칭됬다고 가정하고  p와 s[1:]을 해결하는 문제로 생각할 수 있다.\n",
    "    #                      ?? 이렇게하면 p와 s[2:]도 부분문제로 만들 수 있지 않느냐 ??  (n-1)\n",
    "    #                      => p와 s[2:] 는 이미 p와 s[1:]에 포함되는 부분문제다.      (n-2)\n",
    "    #        ==>  **1개이상 문자 해결 -> 1개는 무조건 해결한 상황 => 1개를 빼고 부분문제를 만들면 된다.**\n",
    "    #    (m,n)\n",
    "    #    /   \\\n",
    "    # (m-1,m) (m, n-1)   or 상황이므로 or로 T/F를 연결한다.\n",
    "    # recursion-case-2\n",
    "    ## => 갯수를 집계하는 것이 아닌 상황에서 + OR 점화식은, T/F 라면 or로 연결한다.\n",
    "    if p[0] == '*':\n",
    "        return (isMatch(p[1:], s) or isMatch(p, s[1:]))\n",
    "\n",
    "    ## 4) p의 ?도 *도 아닌 문자인데,  s와 완전 다른 경우 => 매칭실패다. (고정된 시작/끝 문자열이 다름)\n",
    "    # p = \"ab*\"\n",
    "    # s = \"bbb\"\n",
    "    ## => 이 case를 맨 위에 올리면 안된다. 왜냐면 문자열로서 \"*ab\" \"ab\" 는 문제가 풀리는데도, *와 a가 달라서 틀리다고 나오기 때문\n",
    "    ## => 문자 비교에서 p[0]의 경우의 수(* or ? or 문자)에 패턴이 잇을 경우 => 패턴부터 조건으로 푼다\n",
    "    # last case: if p[0] is a character\n",
    "    if p[0] != s[0]:\n",
    "        return False\n"
   ],
   "metadata": {
    "collapsed": false,
    "pycharm": {
     "name": "#%%\n"
    }
   }
  },
  {
   "cell_type": "code",
   "execution_count": 122,
   "outputs": [
    {
     "name": "stdout",
     "output_type": "stream",
     "text": [
      "* ab\n",
      "True\n"
     ]
    }
   ],
   "source": [
    "print(isMatch(\"*\", \"ab\"))"
   ],
   "metadata": {
    "collapsed": false,
    "pycharm": {
     "name": "#%%\n"
    }
   }
  },
  {
   "cell_type": "code",
   "execution_count": 123,
   "outputs": [
    {
     "name": "stdout",
     "output_type": "stream",
     "text": [
      "?a baa\n",
      "a aa\n",
      " a\n",
      "False\n"
     ]
    }
   ],
   "source": [
    "print(isMatch(\"?a\", \"baa\"))\n",
    "# p[0]가 ?가 나왔다면.. p와s한글자씩 제끼고 부분문제를 푼다\n",
    "# p문자인데, s가  같다면,  1글자씩 제끼고 부분문제를 푼다\n",
    "# p ==\"\"면 탈락(맨 마지막 부분문제의 문자열은 p==s같거나 p==*로 남은s처리가능해야 통과)"
   ],
   "metadata": {
    "collapsed": false,
    "pycharm": {
     "name": "#%%\n"
    }
   }
  },
  {
   "cell_type": "code",
   "execution_count": 124,
   "outputs": [
    {
     "name": "stdout",
     "output_type": "stream",
     "text": [
      "* ba\n",
      "True\n"
     ]
    }
   ],
   "source": [
    "print(isMatch(\"*\", \"ba\"))\n",
    "# 맨 마지막 부분문제의 문자열은 p==s같거나 p==*로 남은s처리가능해야 통과)"
   ],
   "metadata": {
    "collapsed": false,
    "pycharm": {
     "name": "#%%\n"
    }
   }
  },
  {
   "cell_type": "code",
   "execution_count": 125,
   "outputs": [
    {
     "name": "stdout",
     "output_type": "stream",
     "text": [
      "a* ba\n",
      "False\n"
     ]
    }
   ],
   "source": [
    "print(isMatch(\"a*\", \"ba\"))\n"
   ],
   "metadata": {
    "collapsed": false,
    "pycharm": {
     "name": "#%%\n"
    }
   }
  },
  {
   "cell_type": "code",
   "execution_count": null,
   "outputs": [],
   "source": [
    "## 시간복잡도는?\n"
   ],
   "metadata": {
    "collapsed": false,
    "pycharm": {
     "name": "#%%\n"
    }
   }
  },
  {
   "cell_type": "markdown",
   "source": [
    "![20221022021529](https://raw.githubusercontent.com/is3js/screenshots/main/20221022021529.png)\n"
   ],
   "metadata": {
    "collapsed": false,
    "pycharm": {
     "name": "#%% md\n"
    }
   }
  },
  {
   "cell_type": "code",
   "execution_count": 128,
   "outputs": [],
   "source": [
    "# Worst case Time Complexity: T(n) = T(n-1) + T(n-1) = 2* T(n-1)\n",
    "## 재귀가 2개의 부분문제 or로 이어지니, O(2^n)\n",
    "## 좋은 재귀는 return isMatch() 1개로 n->n-1으로 O(n)이다.\n",
    "# => T(n) = 0(2^n) [as shown below]\n",
    "\n",
    "\n",
    "## => 꼬리재귀는 DP로 푼다\n",
    "## => 비슷한게 많이 만날 것이므로 재귀 => 보텀업의 반복문 + 초항적인 dp테이블로 푼다?\n",
    "\n",
    "\n",
    "## 피보나치를 탑다운 by 재귀+메모이제이션으로 해결하기\n",
    "# (1) 탑다운by 재귀+메모이제이션으로 사용할 배열 선언\n",
    "d = [0] * 100  # 0~99까지 숫자를 index에 매핑\n",
    "\n",
    "\n",
    "# (2) 탑다운by 재귀그대로 + 메모이제이션(dict or d)의 재귀함수 정의\n",
    "def fibo(x):\n",
    "    if x == 1 or x == 2:  # 종착역은 동일하나\n",
    "        return 1\n",
    "    # (3) 현재x에 대해 이미 해결했는지( not 0) dp테이블에서 확인 후 바로 반환한다.\n",
    "    if d[x]:\n",
    "        return d[x]\n",
    "    # (4) 계산한적 없다면, 계산후 테이블 업데이트(저장)까지 하고 반환한다.\n",
    "    # return fibo(x - 1) + fibo(x - 2)\n",
    "    d[x] = fibo(x - 1) + fibo(x - 2)\n",
    "    return d[x]\n",
    "\n",
    "\n",
    "print(fibo(99))\n",
    "\n",
    "## 피보나치를 보텀업 by 반복문 + 초항적힌 dp테이블로 해결\n",
    "# (1) dp테이블 0으로 초기화\n",
    "d = [0] * 100\n",
    "# (2) dp테이블에 초기항 입력\n",
    "d[1], d[2] = 1, 1\n",
    "# (3) 반복문을 통해 초기항다음부터 마지막까지 점화식을 통해 dp테이블을 채우기\n",
    "for i in range(3, 99 + 1):\n",
    "    d[i] = d[i - 1] + d[i - 2]\n",
    "print(d[99])"
   ],
   "metadata": {
    "collapsed": false,
    "pycharm": {
     "name": "#%%\n"
    }
   }
  },
  {
   "cell_type": "markdown",
   "source": [
    "![20221022021929](https://raw.githubusercontent.com/is3js/screenshots/main/20221022021929.png)"
   ],
   "metadata": {
    "collapsed": false,
    "pycharm": {
     "name": "#%% md\n"
    }
   }
  },
  {
   "cell_type": "code",
   "execution_count": null,
   "outputs": [],
   "source": [],
   "metadata": {
    "collapsed": false,
    "pycharm": {
     "name": "#%%\n"
    }
   }
  },
  {
   "cell_type": "code",
   "execution_count": null,
   "outputs": [],
   "source": [
    "# Overlapping sub-problems:\n",
    "# Why not store solutions to already solved problems in a 2D array of [0...m-1][0...n-1]\n",
    "# Dynamic programming: Recursion + overlapping subproblems\n",
    "### DP는 재귀 + n-1, n-2로 겹치는 부분문제를 가질 때다\n",
    "\n",
    "\n",
    "# We discussed this in our course when we learn back-propogation in DL.\n",
    "\n",
    "# DONOT need to use recursion also now. Can solve iteratively."
   ],
   "metadata": {
    "collapsed": false,
    "pycharm": {
     "name": "#%%\n"
    }
   }
  },
  {
   "cell_type": "code",
   "execution_count": null,
   "outputs": [],
   "source": [
    "## n-1, n-2 겹치는 부분문제는 재귀대신 DP bottom-up으로\n",
    "\n",
    "\n",
    "## 피보나치를 보텀업 by 반복문 + 초항적힌 dp테이블로 해결\n",
    "# (1) dp테이블 0으로 초기화\n",
    "d = [0] * 100\n",
    "# (2) dp테이블에 초기항 입력\n",
    "d[1], d[2] = 1, 1\n",
    "# (3) 반복문을 통해 초기항다음부터 마지막까지 점화식을 통해 dp테이블을 채우기\n",
    "for i in range(3, 99 + 1):\n",
    "    d[i] = d[i - 1] + d[i - 2]\n",
    "print(d[99])"
   ],
   "metadata": {
    "collapsed": false,
    "pycharm": {
     "name": "#%%\n"
    }
   }
  },
  {
   "cell_type": "code",
   "execution_count": 135,
   "outputs": [],
   "source": [
    "def is_match_dp(p, s):\n",
    "    # 보텀업도 base case를 메서드안에서 가질 수 있다.\n",
    "\n",
    "    # 1) p가 s와 동일하게 남거나, p가 * 1개만 남았을 경우\n",
    "    if p == s or p == '*':\n",
    "        return True\n",
    "    # 2) 1)return에 걸리지 않는 배반상태면서, 정보가 없는 상태인 p가 없거나 s가 없으면 탈락\n",
    "    ## => \"\", \"\" 면 비교할게 없어서 성공이지만, 종착역 p==s에 걸려서 True가 된 상태일 것이다.\n",
    "    ## => (p != s and p!='*'의 배반상태에서)  둘중에 1개가 \"\"인 상황이다.\n",
    "    if p == '' or s == '':\n",
    "        return False\n",
    "    # 3) 보텀업은 초항이 적인 dp table -> 반복문을 돌려 1개씩 채워나간다\n",
    "    #    n을 n으로 쓰기 위해, len + 1개로 dp테이블을 만든다.\n",
    "    #    변수가 2개면, 2차원배열로 dp테이블을 만든다.\n",
    "    #    변수가 문자열이기 때문에, index는 문자열의 길이로 담는다?\n",
    "    p_len = len(p)\n",
    "    s_len = len(s)\n",
    "\n",
    "    # 4) dp테이블은 False로 초기화하되, 초항들은 값을 넣어서 시작되어야한다.\n",
    "    #    d[p][s] 순으로 저장하려면, list comp는 안쪽에서부터 s를 만든다.\n",
    "    d = [[False] * (s_len + 1) for _ in range(p_len + 1)]\n",
    "\n",
    "    # 5) 초항은 점화식의 정답을 넣어놔야하는데, 둘다 길이가 0인 \"\" \"\" 이면, p==s 상황이므로 True이다.\n",
    "    d[0][0] = True\n",
    "\n",
    "    # 6) 바텀업의 반복문만 남은상황, 초기항 이후로의 d테이블을 채우도록 p -> s순으로 돌린다.\n",
    "    ## 일명 DP compute => 점화식을 구성하면 되는데, 현재는 점화식이 p의 상황에 따라 달라졌었다.\n",
    "    for p_idx in range(1, p_len + 1):\n",
    "\n",
    "        # 7) 재귀에서는, 전체에서, 부분문제를 만들기 위해,\n",
    "        #    ->  p[0] == */?/문자가 무엇이냐에 따라 부분문제를 만들어서 재귀로 풀었지만\n",
    "        #    DP에서는, 직전까지 완료d[p_idx-1]를 쓰기 위해,\n",
    "        #    -> 직전(p_idx-1)에서 추가된 [현재 p_idx]의 상태에 따라서 부분문제를 만들어야한다.\n",
    "        #    현재p_idx는, 문제문자열의 길이로서, 실제 문자열은 p[p_idx-1]에 위치해있다.\n",
    "        # => 다음 문제인, +1된 p의 길이 -> 마지막 p문자열이 무엇이냐에 따라, 어떤 부분문제를 쓸지 달라진다.\n",
    "\n",
    "        ## 7-1) 마지막 p문자열이 *인 상황이라면?\n",
    "        # the current character in the pattern is '*'\n",
    "        if p[p_idx - 1] == '*':\n",
    "            # d[p_idx - 1][s_idx - 1] is a string-pattern match  on the previous step, i.e. one character before.\n",
    "            # Find the first idx in string with the previous math.\n",
    "            # => d[p_idx-1]이라는 부분문제를 만족하는, s_idx-1를 1부터, 증가시키면서 찾아나선다\n",
    "            #    [가장 빠른s_idx-1]을 찾아면서, d[p_idx-1][s_idx-1]가 True인 것을 찾으면 종료하게 한다.\n",
    "            # ex> p=[abcd]*  s=[abcd]efg\n",
    "            #        abcd      [abcd]\n",
    "            s_idx = 1\n",
    "            # 7-2) d[p_idx-1][s_idx-1]가 True가 되는 순간까지 등산하다 멈추는 while\n",
    "            # 혹은, 길이보다 길어지면 탈락?\n",
    "            while not d[p_idx - 1][s_idx - 1] and s_idx < s_len + 1:\n",
    "                s_idx += 1\n",
    "\n",
    "            ## 7-3) p=[abcd]  s=[abcd] 이 True라면 -> p=[abcd]*  s=[abcd]도 True라서 풀어준다.\n",
    "            # If (string) matches (pattern),\n",
    "            # when (string) matches (pattern)* as well\n",
    "            d[p_idx][s_idx - 1] = d[p_idx - 1][s_idx - 1]\n",
    "\n",
    "            ## 7-4) p에 *가 달렸다면, [p-1][s-1]이후에 s에 무엇이 달리든 다 통과다\n",
    "            # If (string) matches (pattern),\n",
    "            # when (string)(whatever_characters) matches (pattern)* as well\n",
    "            while s_idx < s_len + 1:\n",
    "                # +1된 s_idx부터 끝까지 True를 넣어준다.\n",
    "                d[p_idx][s_idx] = True\n",
    "                s_idx += 1\n",
    "\n",
    "        ## 8)  the current character in the pattern is '?'\n",
    "        ## => 추가된 문자가 ?라면, zero or 1이므로, s-1에 문자열 1개가 더붙은 [s_idx]를 [s_idx-1]와 결과가 동일하다\n",
    "        ##   [abcd]? [abcd]k <- [abce] [abcd]\n",
    "        elif p[p_idx] == '?':\n",
    "            for s_idx in range(1, s_len + 1):\n",
    "                d[p_idx][s_idx] = d[p_idx - 1][s_idx - 1]\n",
    "\n",
    "        ## 9) the current character in the pattern is not '*' or '?'\n",
    "        ## p가 * ? 가 아닌 문자열이면, 직전이 True and 현재p와 현재s가 동일해야 통과다\n",
    "        else:\n",
    "            for s_idx in range(1, s_len + 1):\n",
    "                # Match is possible if there is a previous match and current characters are the same\n",
    "                d[p_idx][s_idx] = \\\n",
    "                d[p_idx - 1][s_idx - 1] and p[p_idx-1] == s[s_idx - 1]\n",
    "\n",
    "        ## 10) dp테이블을 다 채우고, 원하는 p, s길이의 T/F 결과를 반환해준다.\n",
    "        return d[p_len][s_len]"
   ],
   "metadata": {
    "collapsed": false,
    "pycharm": {
     "name": "#%%\n"
    }
   }
  },
  {
   "cell_type": "code",
   "execution_count": 140,
   "outputs": [
    {
     "name": "stdout",
     "output_type": "stream",
     "text": [
      "False\n"
     ]
    }
   ],
   "source": [
    "print(is_match_dp(\"a*\" ,\"ba\"))"
   ],
   "metadata": {
    "collapsed": false,
    "pycharm": {
     "name": "#%%\n"
    }
   }
  },
  {
   "cell_type": "code",
   "execution_count": 146,
   "outputs": [],
   "source": [
    "# Source: https://leetcode.com/problems/wildcard-matching/solution/\n",
    "# GIVEN THE ABOVE INUTITON, READING THIS CODE SHOULD BE STRAIGHT FORWARD\n",
    "# Time Complx: O(m*n).\n",
    "\n",
    "# Exercise: Go through this code line by line while keeping the logic in mind!\n",
    "\n",
    "def isMatchDP(p,s):\n",
    "    s_len = len(s)\n",
    "    p_len = len(p)\n",
    "\n",
    "    # base cases\n",
    "    if p == s or p == '*':\n",
    "        return True\n",
    "    if p == '' or s == '':\n",
    "        return False\n",
    "\n",
    "    # init all matrix except [0][0] element as False\n",
    "    d = [ [False] * (s_len + 1) for _ in range(p_len + 1)]\n",
    "    d[0][0] = True\n",
    "\n",
    "    # DP compute\n",
    "    for p_idx in range(1, p_len + 1):\n",
    "\n",
    "        # the current character in the pattern is '*'\n",
    "        if p[p_idx - 1] == '*':\n",
    "\n",
    "            s_idx = 1\n",
    "\n",
    "            # d[p_idx - 1][s_idx - 1] is a string-pattern match\n",
    "            # on the previous step, i.e. one character before.\n",
    "            # Find the first idx in string with the previous math.\n",
    "\n",
    "            # p=abcd*  s=abcdefg\n",
    "            while not d[p_idx - 1][s_idx - 1] and s_idx < s_len + 1:\n",
    "                s_idx += 1\n",
    "\n",
    "            # If (string) matches (pattern),\n",
    "            # when (string) matches (pattern)* as well\n",
    "            d[p_idx][s_idx - 1] = d[p_idx - 1][s_idx - 1]\n",
    "\n",
    "            # If (string) matches (pattern),\n",
    "            # when (string)(whatever_characters) matches (pattern)* as well\n",
    "            while s_idx < s_len + 1:\n",
    "                d[p_idx][s_idx] = True\n",
    "                s_idx += 1\n",
    "\n",
    "        # the current character in the pattern is '?'\n",
    "        elif p[p_idx - 1] == '?':\n",
    "            for s_idx in range(1, s_len + 1):\n",
    "                d[p_idx][s_idx] = d[p_idx - 1][s_idx - 1]\n",
    "\n",
    "        # the current character in the pattern is not '*' or '?'\n",
    "        else:\n",
    "            for s_idx in range(1, s_len + 1):\n",
    "                # Match is possible if there is a previous match\n",
    "                # and current characters are the same\n",
    "                d[p_idx][s_idx] = \\\n",
    "                d[p_idx - 1][s_idx - 1] and p[p_idx - 1] == s[s_idx - 1]\n",
    "\n",
    "    return d[p_len][s_len]"
   ],
   "metadata": {
    "collapsed": false,
    "pycharm": {
     "name": "#%%\n"
    }
   }
  },
  {
   "cell_type": "code",
   "execution_count": 147,
   "outputs": [
    {
     "data": {
      "text/plain": "False"
     },
     "execution_count": 147,
     "metadata": {},
     "output_type": "execute_result"
    }
   ],
   "source": [
    "is_match_dp(\"a*\", \"abc\")"
   ],
   "metadata": {
    "collapsed": false,
    "pycharm": {
     "name": "#%%\n"
    }
   }
  },
  {
   "cell_type": "code",
   "execution_count": null,
   "outputs": [],
   "source": [],
   "metadata": {
    "collapsed": false,
    "pycharm": {
     "name": "#%%\n"
    }
   }
  },
  {
   "cell_type": "code",
   "execution_count": null,
   "outputs": [],
   "source": [
    "## Bottomup은 이해하기 힘들지만, 효율적인 계산을 한다.\n",
    "\n",
    "\n",
    "## top-down은 재귀를 그대로  + 저장공간만 1개 추가되어 이해하기 쉽다.\n",
    "## 피보나치를 탑다운 by 재귀+메모이제이션으로 해결하기\n",
    "# (1) 탑다운by 재귀+메모이제이션으로 사용할 배열 선언\n",
    "d = [0] * 100  # 0~99까지 숫자를 index에 매핑\n",
    "\n",
    "\n",
    "# (2) 탑다운by 재귀그대로 + 메모이제이션(dict or d)의 재귀함수 정의\n",
    "def fibo(x):\n",
    "    if x == 1 or x == 2:  # 종착역은 동일하나\n",
    "        return 1\n",
    "    # (3) 현재x에 대해 이미 해결했는지( not 0) dp테이블에서 확인 후 바로 반환한다.\n",
    "    if d[x]:\n",
    "        return d[x]\n",
    "    # (4) 계산한적 없다면, 계산후 테이블 업데이트(저장)까지 하고 반환한다.\n",
    "    # return fibo(x - 1) + fibo(x - 2)\n",
    "    d[x] = fibo(x - 1) + fibo(x - 2)\n",
    "    return d[x]\n"
   ],
   "metadata": {
    "collapsed": false,
    "pycharm": {
     "name": "#%%\n"
    }
   }
  },
  {
   "cell_type": "code",
   "execution_count": 154,
   "outputs": [],
   "source": [
    "# top-down DP using recursion and memoization (dp)\n",
    "# Handle all cases of recursion thoroughly.\n",
    "\n",
    "# def isMatch(p, s):\n",
    "#     print(p, s)  # print statemnt for debugging\n",
    "#\n",
    "#     if p == s:\n",
    "#         return True\n",
    "#\n",
    "#     if p == \"*\":\n",
    "#         return True\n",
    "#\n",
    "#     if p == \"\" or s == \"\":\n",
    "#         return False\n",
    "#\n",
    "#     if p[0] == s[0] or p[0] == '?':\n",
    "#         return isMatch(p[1:], s[1:])\n",
    "#\n",
    "#     if p[0] == '*':\n",
    "#         return (isMatch(p[1:], s) or isMatch(p, s[1:]))\n",
    "#\n",
    "#     if p[0] != s[0]:\n",
    "#         return False\n",
    "\n",
    "\n",
    "## 1) 재귀 + 메모이제이션을 dict로 쓸거면, 각 p,s당 저장할 key를 index tuple로 써야한다.\n",
    "## 2) top-down시 대상 배열의 시작index 입력해줘야한다.? dict에 key로 넣고, O(1)으로 꺼내기 위해\n",
    "##    => 시작index가 종착역이 되며, 종착역또한 dp에 key로 저장\n",
    "##    => 부분문제 재귀를 호출시 시작index를 +=1로 호출하여 부분문제를 만들어p-1, s-1상황을 재귀호출 한다.\n",
    "## ====>  만약, 시작index로 시작 -> 부분문제를 시작index+=1로 변화하면서, 기록 => 안하면, dict에 그상황을 기록못한다\n",
    "#   기록하려면 p[1:] 대신 p, p_start + 1을서서 기록하고 호출해야한다.\n",
    "def isMatchDP(pattern, string, pattern_start, string_start, dp ):\n",
    "\n",
    "    #print(pattern_start, string_start);\n",
    "\n",
    "    ## 3) 종착역 전에, 이미 dp테이블에 있으면 반환해버린다.\n",
    "    if  (pattern_start, string_start) in dp:\n",
    "        return dp[(pattern_start, string_start)]\n",
    "\n",
    "    ## 4) 대상배열 중, 명시한 시작index를 대상으로 해서 문제를 푼다?\n",
    "    ## => p[1:], s[1:] 을 인자로 받는 대신\n",
    "    ##    p배열전체, s배열전체,   p_index, s_index로 바꿔서 전달하고 있다.\n",
    "    ## => index를 움직여서 부분문제의 대상을 만들고,\n",
    "    ## => 그 때의 index를 dict에 기록한다.\n",
    "    p = pattern[pattern_start:]\n",
    "    s = string[string_start:]\n",
    "\n",
    "    print(p,s) # print statemnt for debugging\n",
    "\n",
    "    ## 5) 종착역부터, dp  dict에서 기록한 뒤, 반환하여, 종착역을 백트래킹해서 올라갈 때 재활용할 수 있게 한다\n",
    "    # boundary cases of recursion\n",
    "    if p == s:\n",
    "        dp[(pattern_start, string_start)] = True;\n",
    "        return True\n",
    "\n",
    "    if p == \"*\":\n",
    "        dp[(pattern_start, string_start)] = True;\n",
    "        return True\n",
    "\n",
    "    if p == \"\" or s == \"\":\n",
    "        dp[(pattern_start, string_start)] = False;\n",
    "        return False\n",
    "\n",
    "    ## 6) 재귀를 풀 때, 바로 return하지말고, temp에 담고, dict에 기록해서 반환한다.\n",
    "    # recursion case-1\n",
    "    if p[0] == s[0] or p[0] == '?':\n",
    "        tmp = isMatchDP(pattern, string, pattern_start+1, string_start+1, dp)\n",
    "        dp[(pattern_start, string_start)] = tmp\n",
    "        return tmp;\n",
    "\n",
    "    # recursion-case-2\n",
    "    if p[0] == '*':\n",
    "        tmp = ( isMatchDP( pattern, string, pattern_start+1, string_start, dp) or isMatchDP( pattern, string, pattern_start, string_start+1, dp))\n",
    "        dp[(pattern_start, string_start)] = tmp;\n",
    "        return tmp;\n",
    "\n",
    "    # last case: if p[0] is a character\n",
    "    if  p[0] != s[0]:\n",
    "        dp[(pattern_start, string_start)] = False;\n",
    "        return False;\n"
   ],
   "metadata": {
    "collapsed": false,
    "pycharm": {
     "name": "#%%\n"
    }
   }
  },
  {
   "cell_type": "code",
   "execution_count": 155,
   "outputs": [
    {
     "name": "stdout",
     "output_type": "stream",
     "text": [
      "* ab\n",
      "True\n"
     ]
    }
   ],
   "source": [
    "print(isMatchDP(\"*\",\"ab\",0,0, {}))"
   ],
   "metadata": {
    "collapsed": false,
    "pycharm": {
     "name": "#%%\n"
    }
   }
  },
  {
   "cell_type": "code",
   "execution_count": 156,
   "outputs": [
    {
     "name": "stdout",
     "output_type": "stream",
     "text": [
      "?a baa\n",
      "a aa\n",
      " a\n",
      "False\n"
     ]
    }
   ],
   "source": [
    "print(isMatchDP(\"?a\" ,\"baa\",0,0,{}))"
   ],
   "metadata": {
    "collapsed": false,
    "pycharm": {
     "name": "#%%\n"
    }
   }
  },
  {
   "cell_type": "code",
   "execution_count": 157,
   "outputs": [
    {
     "name": "stdout",
     "output_type": "stream",
     "text": [
      "?a* baa\n",
      "a* aa\n",
      "* a\n",
      "True\n"
     ]
    }
   ],
   "source": [
    "print(isMatchDP(\"?a*\" ,\"baa\",0,0,{}))"
   ],
   "metadata": {
    "collapsed": false,
    "pycharm": {
     "name": "#%%\n"
    }
   }
  },
  {
   "cell_type": "markdown",
   "source": [
    "### 2 Dimensional Dynamic programming vs 1-Dimensional DP\n",
    "\n",
    "### Additional Resources:\n",
    "- https://www.geeksforgeeks.org/solve-dynamic-programming-problem/\n",
    "- 50 practice problems: https://blog.usejournal.com/top-50-dynamic-programming-practice-problems-4208fed71aa3\n"
   ],
   "metadata": {
    "collapsed": false,
    "pycharm": {
     "name": "#%% md\n"
    }
   }
  }
 ],
 "metadata": {
  "kernelspec": {
   "display_name": "Python 3",
   "language": "python",
   "name": "python3"
  },
  "language_info": {
   "codemirror_mode": {
    "name": "ipython",
    "version": 2
   },
   "file_extension": ".py",
   "mimetype": "text/x-python",
   "name": "python",
   "nbconvert_exporter": "python",
   "pygments_lexer": "ipython2",
   "version": "2.7.6"
  }
 },
 "nbformat": 4,
 "nbformat_minor": 0
}